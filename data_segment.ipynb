{
 "cells": [
  {
   "cell_type": "code",
   "execution_count": 1,
   "id": "c8826bfb",
   "metadata": {},
   "outputs": [],
   "source": [
    "import os\n",
    "import random\n",
    "import shutil\n",
    "from PIL import Image\n",
    "import time"
   ]
  },
  {
   "cell_type": "code",
   "execution_count": 2,
   "id": "ee0a23fa",
   "metadata": {},
   "outputs": [],
   "source": [
    "group_members = [\"Khanh Toan Nguyen\", \"Ayush Bhandari\", \"Keshini Munasinghe\",\"Max Harrison\", \"Ratanakvisal Heng\"]"
   ]
  },
  {
   "cell_type": "code",
   "execution_count": 3,
   "id": "60212c4b",
   "metadata": {},
   "outputs": [],
   "source": [
    "labels  = [\"damaged-sign3\", \"not_rubbish\", \"rubbish\"]"
   ]
  },
  {
   "cell_type": "code",
   "execution_count": 4,
   "id": "7d267970",
   "metadata": {},
   "outputs": [],
   "source": [
    "input_dir = \"data\"\n",
    "output_dir = \"data_labelling\""
   ]
  },
  {
   "cell_type": "code",
   "execution_count": 5,
   "id": "81613c9d",
   "metadata": {},
   "outputs": [],
   "source": [
    "# Create labelling folder for each member\n",
    "for member in group_members:\n",
    "    for label in labels:\n",
    "        os.makedirs(os.path.join(output_dir,member,label),exist_ok=True)"
   ]
  },
  {
   "cell_type": "code",
   "execution_count": null,
   "id": "87dc6cc9",
   "metadata": {},
   "outputs": [],
   "source": [
    "def chunking_and_converting_images(group_members,input_dir,output_dir,label):\n",
    "    \"\"\" \"\"\"\n",
    "    start_time = time.time()\n",
    "    error_image = []\n",
    "    error_count = 0\n",
    "\n",
    "    label_path = os.path.join(input_dir,label)\n",
    "    images = [f for f in os.listdir(label_path) if f.lower().endswith(('.jpg', '.jpeg', '.png'))]\n",
    "\n",
    "    print(f\"Process chunking for label: {label}\\n\")\n",
    "    \n",
    "    random.seed(42)                                             # Random seed (42) to ensures reproductability\n",
    "    random.shuffle(images)\n",
    "\n",
    "    num_images = len(images)\n",
    "    per_person = num_images // len(group_members)               # Calculate how many images each team's member need to label\n",
    "\n",
    "    print(f\"Number of images: {num_images}\")\n",
    "    print(f\"Each member has to label: {per_person} images\\n\")\n",
    "\n",
    "    img_counter = 1\n",
    "\n",
    "    for i, member in enumerate(group_members):\n",
    "        print(f\"Member {i+1}: {member}\")\n",
    "        start = i* per_person\n",
    "        end = (i + 1) * per_person if i < len(group_members)-1 else num_images\n",
    "        print(f\"    Start idx: {start}, End idx: {end}\")\n",
    "        member_imgs = images[start:end]                         # Calculate which chunk of data will be given to which person\n",
    "\n",
    "        for img_name in member_imgs:\n",
    "            img_path = os.path.join(label_path, img_name)\n",
    "            new_name = f\"{label}-{img_counter:03d}.png\"         # Rename the image\n",
    "            save_path = os.path.join(output_dir, member, label, new_name)       \n",
    "            try:\n",
    "                with Image.open(img_path) as im:\n",
    "                    im = im.convert(\"RGB\")\n",
    "                    im.save(save_path, \"PNG\")                   # Convert to PNG\n",
    "\n",
    "                    end_time = time.time()\n",
    "                    elapsed = end_time - start_time\n",
    "                    elapsed_min = int(elapsed // 60)\n",
    "                    elapsed_sec = int(elapsed % 60)\n",
    "                    print(\n",
    "                        f\"Processing img: {img_path} - Convert to new name: {save_path}\",\n",
    "                        f\"| Elapsed: {elapsed_min}m {elapsed_sec}s\",\n",
    "                        end=\"\\r\"\n",
    "                    )                                           # Calculate elapsed time for each label\n",
    "                img_counter += 1\n",
    "\n",
    "            except Exception as e:\n",
    "                print(f\"❌ Skipping for Error processing {img_path}: {e}\")\n",
    "                error_count += 1\n",
    "                error_image.append(img_path)                    # Trace which image got error while process.\n",
    "    return error_image, error_count"
   ]
  },
  {
   "cell_type": "code",
   "execution_count": null,
   "id": "742f76a4",
   "metadata": {},
   "outputs": [
    {
     "name": "stdout",
     "output_type": "stream",
     "text": [
      "Process chunking for label: damaged-sign3\n",
      "\n",
      "Number of images: 527\n",
      "Each member has to label: 105 images\n",
      "\n",
      "Member 1: Khanh Toan Nguyen\n",
      "    Start idx: 0, End idx: 105\n",
      "Member 2: Ayush Bhandariaged-sign3\\91343852333188940018699593236846337439772868550-25.jpg - Convert to new name: data_labelling\\Khanh Toan Nguyen\\damaged-sign3\\damaged-sign3-105.png | Elapsed: 0m 5s\n",
      "    Start idx: 105, End idx: 210\n",
      "Member 3: Keshini Munasinghe-sign3\\91343852333188941499275880222161360434283617287-25.jpg - Convert to new name: data_labelling\\Ayush Bhandari\\damaged-sign3\\damaged-sign3-210.png | Elapsed: 0m 11s\n",
      "    Start idx: 210, End idx: 315\n",
      "Member 4: Max Harrisonamaged-sign3\\91343852333188064379143965272942111149418746806-0.jpg - Convert to new name: data_labelling\\Keshini Munasinghe\\damaged-sign3\\damaged-sign3-315.png | Elapsed: 0m 16ss\n",
      "    Start idx: 315, End idx: 420\n",
      "Member 5: Ratanakvisal Hengd-sign3\\91343852333198685152013489949978895503452884065-0.jpg - Convert to new name: data_labelling\\Max Harrison\\damaged-sign3\\damaged-sign3-420.png | Elapsed: 0m 22ss\n",
      "    Start idx: 420, End idx: 527\n",
      "Processing img: data\\damaged-sign3\\91343852333188356607269638979929130720182709591-0.jpg - Convert to new name: data_labelling\\Ratanakvisal Heng\\damaged-sign3\\damaged-sign3-527.png | Elapsed: 0m 28ss\r"
     ]
    }
   ],
   "source": [
    "# Chunking for label: damaged-sign3\n",
    "err,count = chunking_and_converting_images(group_members, input_dir,output_dir,labels[0])\n"
   ]
  },
  {
   "cell_type": "code",
   "execution_count": 8,
   "id": "db8cffb6",
   "metadata": {},
   "outputs": [
    {
     "data": {
      "text/plain": [
       "([], 0)"
      ]
     },
     "execution_count": 8,
     "metadata": {},
     "output_type": "execute_result"
    }
   ],
   "source": [
    "err,count"
   ]
  },
  {
   "cell_type": "markdown",
   "id": "ad6d01f3",
   "metadata": {},
   "source": [
    "> No error for `damaged-sign3`"
   ]
  },
  {
   "cell_type": "code",
   "execution_count": 6,
   "id": "015f5036",
   "metadata": {},
   "outputs": [
    {
     "name": "stdout",
     "output_type": "stream",
     "text": [
      "Process chunking for label: not_rubbish\n",
      "\n",
      "Number of images: 6554\n",
      "Each member has to label: 1310 images\n",
      "\n",
      "Member 1: Khanh Toan Nguyen\n",
      "    Start idx: 0, End idx: 1310\n",
      "Member 2: Ayush Bhandari_rubbish\\2022-04-26T09.46.44.frame41.jpg - Convert to new name: data_labelling\\Khanh Toan Nguyen\\not_rubbish\\not_rubbish-1310.png | Elapsed: 2m 19s.png | Elapsed: 2m 19s\n",
      "    Start idx: 1310, End idx: 2620\n",
      "Member 3: Keshini Munasinghebish\\91343852333182717176372434584814937403551994388-2.jpg - Convert to new name: data_labelling\\Ayush Bhandari\\not_rubbish\\not_rubbish-2620.png | Elapsed: 4m 44s\n",
      "    Start idx: 2620, End idx: 3930\n",
      "Member 4: Max Harrisonot_rubbish\\2022-04-25T10.42.21.frame31.jpg - Convert to new name: data_labelling\\Keshini Munasinghe\\not_rubbish\\not_rubbish-3930.png | Elapsed: 7m 4s7.png | Elapsed: 7m 3ss\n",
      "    Start idx: 3930, End idx: 5240\n",
      "Member 5: Ratanakvisal Hengbbish\\vlad-03199.png - Convert to new name: data_labelling\\Max Harrison\\not_rubbish\\not_rubbish-5240.png | Elapsed: 9m 15s\\not_rubbish-5239.png | Elapsed: 9m 15s\n",
      "    Start idx: 5240, End idx: 6554\n",
      "Processing img: data\\not_rubbish\\91343852333189688843677596803890637259185168392-1.jpg - Convert to new name: data_labelling\\Ratanakvisal Heng\\not_rubbish\\not_rubbish-6554.png | Elapsed: 11m 47s\r"
     ]
    }
   ],
   "source": [
    "# Chunking for label: not_rubbish\n",
    "err,count = chunking_and_converting_images(group_members, input_dir,output_dir,labels[1])"
   ]
  },
  {
   "cell_type": "code",
   "execution_count": 8,
   "id": "2adf285a",
   "metadata": {},
   "outputs": [
    {
     "data": {
      "text/plain": [
       "([], 0)"
      ]
     },
     "execution_count": 8,
     "metadata": {},
     "output_type": "execute_result"
    }
   ],
   "source": [
    "err,count"
   ]
  },
  {
   "cell_type": "markdown",
   "id": "593c8aa7",
   "metadata": {},
   "source": [
    "> No error for `not_rubbish`"
   ]
  },
  {
   "cell_type": "code",
   "execution_count": 6,
   "id": "f42293a6",
   "metadata": {},
   "outputs": [
    {
     "name": "stdout",
     "output_type": "stream",
     "text": [
      "Process chunking for label: rubbish\n",
      "\n",
      "Number of images: 2701\n",
      "Each member has to label: 540 images\n",
      "\n",
      "Member 1: Khanh Toan Nguyen\n",
      "    Start idx: 0, End idx: 540\n",
      "❌ Skipping for Error processing data\\rubbish\\1c269143-b0b4-457d-b85e-e7e6e61d0817.jpeg: cannot identify image file 'data\\\\rubbish\\\\1c269143-b0b4-457d-b85e-e7e6e61d0817.jpeg' 0m 29s\n",
      "Member 2: Ayush Bhandaribish\\C334.30-11-2021-1638233360722.jpg - Convert to new name: data_labelling\\Khanh Toan Nguyen\\rubbish\\rubbish-539.png | Elapsed: 1m 44sng | Elapsed: 1m 34s\n",
      "    Start idx: 540, End idx: 1080\n",
      "Member 3: Keshini Munasinghe\\C191.19-6-2020-1592516609936.jpg - Convert to new name: data_labelling\\Ayush Bhandari\\rubbish\\rubbish-1079.png | Elapsed: 3m 25ssng | Elapsed: 3m 23s\n",
      "    Start idx: 1080, End idx: 1620\n",
      "Member 4: Max Harrisonubbish\\C234.21-9-2021-1632173520200.jpg - Convert to new name: data_labelling\\Keshini Munasinghe\\rubbish\\rubbish-1619.png | Elapsed: 5m 4s.png | Elapsed: 5m 2ss\n",
      "    Start idx: 1620, End idx: 2160\n",
      "Member 5: Ratanakvisal Hengh\\BTH.3-7-2018-1530597478783.jpg - Convert to new name: data_labelling\\Max Harrison\\rubbish\\rubbish-2159.png | Elapsed: 6m 46s6ssng | Elapsed: 6m 39s\n",
      "    Start idx: 2160, End idx: 2701\n",
      "Processing img: data\\rubbish\\GMU.1-3-2021-1614544416219.jpg - Convert to new name: data_labelling\\Ratanakvisal Heng\\rubbish\\rubbish-2700.png | Elapsed: 8m 32s2spng | Elapsed: 8m 32s\r"
     ]
    }
   ],
   "source": [
    "# Chunking for label: rubbish\n",
    "err,count = chunking_and_converting_images(group_members, input_dir,output_dir,labels[2])"
   ]
  },
  {
   "cell_type": "code",
   "execution_count": 7,
   "id": "b8b36096",
   "metadata": {},
   "outputs": [
    {
     "data": {
      "text/plain": [
       "(['data\\\\rubbish\\\\1c269143-b0b4-457d-b85e-e7e6e61d0817.jpeg'], 1)"
      ]
     },
     "execution_count": 7,
     "metadata": {},
     "output_type": "execute_result"
    }
   ],
   "source": [
    "err,count"
   ]
  },
  {
   "cell_type": "markdown",
   "id": "135bb25f",
   "metadata": {},
   "source": [
    "> 1 Error for `rubbish`, 'data\\\\rubbish\\\\1c269143-b0b4-457d-b85e-e7e6e61d0817.jpeg'"
   ]
  },
  {
   "cell_type": "markdown",
   "id": "2614d1c6",
   "metadata": {},
   "source": []
  }
 ],
 "metadata": {
  "kernelspec": {
   "display_name": "computer-vision",
   "language": "python",
   "name": "python3"
  },
  "language_info": {
   "codemirror_mode": {
    "name": "ipython",
    "version": 3
   },
   "file_extension": ".py",
   "mimetype": "text/x-python",
   "name": "python",
   "nbconvert_exporter": "python",
   "pygments_lexer": "ipython3",
   "version": "3.10.18"
  }
 },
 "nbformat": 4,
 "nbformat_minor": 5
}
